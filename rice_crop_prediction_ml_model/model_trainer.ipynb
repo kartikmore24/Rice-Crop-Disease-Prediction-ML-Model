{
 "cells": [
  {
   "cell_type": "markdown",
   "metadata": {},
   "source": [
    "# In this file a machine learning model has been trained"
   ]
  },
  {
   "cell_type": "code",
   "execution_count": 34,
   "metadata": {},
   "outputs": [],
   "source": [
    "import joblib\n",
    "import tensorflow as tf\n",
    "from tensorflow import keras\n",
    "from keras.models import Sequential\n",
    "from keras.layers import Dense, Flatten, Conv2D, Activation, MaxPooling2D, Dropout\n",
    "from keras.optimizers import SGD\n",
    "import matplotlib.pyplot as plt\n",
    "import numpy as np\n",
    "from sklearn.model_selection import train_test_split\n",
    "import cv2\n",
    "\n"
   ]
  },
  {
   "cell_type": "markdown",
   "metadata": {},
   "source": [
    "## Loading preprocessed images and labels"
   ]
  },
  {
   "cell_type": "code",
   "execution_count": 35,
   "metadata": {},
   "outputs": [],
   "source": [
    "with open('images_array.joblib', 'rb') as f:\n",
    "    X = joblib.load(f)"
   ]
  },
  {
   "cell_type": "code",
   "execution_count": 36,
   "metadata": {},
   "outputs": [],
   "source": [
    "with open('images_labels.joblib', 'rb') as f:\n",
    "    y = joblib.load(f)"
   ]
  },
  {
   "cell_type": "markdown",
   "metadata": {},
   "source": [
    "## Normalizing the preprocessed images"
   ]
  },
  {
   "cell_type": "code",
   "execution_count": 37,
   "metadata": {},
   "outputs": [],
   "source": [
    "def normalized():\n",
    "\n",
    "        norm=np.zeros((120,100,100,3),np.float32)\n",
    "        norm_rgb=np.zeros((120,100,100,3),np.uint8)\n",
    "\n",
    "        b=X[:,:,:,0]\n",
    "        g=X[:,:,:,1]\n",
    "        r=X[:,:,:,2]\n",
    "\n",
    "        sum=b+g+r\n",
    "\n",
    "        norm[:,:,:,0] = b / (sum*255.0)\n",
    "        norm[:,:,:,1] = g / (sum*255.0)\n",
    "        norm[:,:,:,2] = r / (sum*255.0)\n",
    "\n",
    "        norm_rgb=cv2.convertScaleAbs(norm)\n",
    "        return norm_rgb"
   ]
  },
  {
   "cell_type": "code",
   "execution_count": 38,
   "metadata": {
    "scrolled": false
   },
   "outputs": [
    {
     "name": "stderr",
     "output_type": "stream",
     "text": [
      "<ipython-input-37-eb612169273b>:12: RuntimeWarning: divide by zero encountered in true_divide\n",
      "  norm[:,:,:,0] = b / (sum*255.0)\n",
      "<ipython-input-37-eb612169273b>:12: RuntimeWarning: invalid value encountered in true_divide\n",
      "  norm[:,:,:,0] = b / (sum*255.0)\n",
      "<ipython-input-37-eb612169273b>:13: RuntimeWarning: divide by zero encountered in true_divide\n",
      "  norm[:,:,:,1] = g / (sum*255.0)\n",
      "<ipython-input-37-eb612169273b>:13: RuntimeWarning: invalid value encountered in true_divide\n",
      "  norm[:,:,:,1] = g / (sum*255.0)\n",
      "<ipython-input-37-eb612169273b>:14: RuntimeWarning: divide by zero encountered in true_divide\n",
      "  norm[:,:,:,2] = r / (sum*255.0)\n",
      "<ipython-input-37-eb612169273b>:14: RuntimeWarning: invalid value encountered in true_divide\n",
      "  norm[:,:,:,2] = r / (sum*255.0)\n"
     ]
    }
   ],
   "source": [
    "x = normalized()"
   ]
  },
  {
   "cell_type": "code",
   "execution_count": 39,
   "metadata": {},
   "outputs": [],
   "source": [
    "x = np.array(x)\n",
    "y = np.array(y)"
   ]
  },
  {
   "cell_type": "markdown",
   "metadata": {},
   "source": [
    "## Building an CNN model "
   ]
  },
  {
   "cell_type": "code",
   "execution_count": 40,
   "metadata": {},
   "outputs": [],
   "source": [
    "model = Sequential()"
   ]
  },
  {
   "cell_type": "code",
   "execution_count": 41,
   "metadata": {},
   "outputs": [],
   "source": [
    "model.add(Conv2D(32, (2,2), input_shape = x.shape[1:]))\n",
    "model.add(Activation('relu'))\n",
    "model.add(MaxPooling2D(pool_size = (2,2)))\n",
    "\n",
    "model.add(Conv2D(64, (2,2)))\n",
    "model.add(Activation('relu'))\n",
    "model.add(MaxPooling2D(pool_size = (2,2)))\n",
    "\n",
    "model.add(Conv2D(64, (2,2)))\n",
    "model.add(Activation('relu'))\n",
    "model.add(MaxPooling2D(pool_size = (2,2)))\n",
    "\n",
    "model.add(Conv2D(64, (2,2)))\n",
    "model.add(Activation('relu'))\n",
    "model.add(MaxPooling2D(pool_size = (2,2)))\n",
    "\n",
    "model.add(Conv2D(64, (2,2)))\n",
    "model.add(Activation('relu'))\n",
    "model.add(MaxPooling2D(pool_size = (2,2)))\n",
    "\n",
    "model.add(Dropout(0.3))\n",
    "model.add(Flatten())\n",
    "model.add(Dense(128))\n",
    "model.add(Activation('relu'))\n",
    "model.add(Dropout(0.3))\n",
    "model.add(Dense(3))\n",
    "model.add(Activation('softmax'))\n"
   ]
  },
  {
   "cell_type": "code",
   "execution_count": 42,
   "metadata": {},
   "outputs": [],
   "source": [
    "model.compile(optimizer='adam', loss='sparse_categorical_crossentropy', metrics=['accuracy'])"
   ]
  },
  {
   "cell_type": "code",
   "execution_count": 43,
   "metadata": {},
   "outputs": [
    {
     "name": "stdout",
     "output_type": "stream",
     "text": [
      "Epoch 1/25\n",
      "3/3 [==============================] - 1s 193ms/step - loss: 1.1016 - accuracy: 0.2292 - val_loss: 1.0966 - val_accuracy: 0.3333\n",
      "Epoch 2/25\n",
      "3/3 [==============================] - 0s 119ms/step - loss: 1.0916 - accuracy: 0.4375 - val_loss: 1.0945 - val_accuracy: 0.3333\n",
      "Epoch 3/25\n",
      "3/3 [==============================] - 0s 117ms/step - loss: 1.0890 - accuracy: 0.3646 - val_loss: 1.0927 - val_accuracy: 0.4583\n",
      "Epoch 4/25\n",
      "3/3 [==============================] - 0s 115ms/step - loss: 1.0761 - accuracy: 0.4375 - val_loss: 1.0910 - val_accuracy: 0.4583\n",
      "Epoch 5/25\n",
      "3/3 [==============================] - 0s 123ms/step - loss: 1.0697 - accuracy: 0.4479 - val_loss: 1.0876 - val_accuracy: 0.4167\n",
      "Epoch 6/25\n",
      "3/3 [==============================] - 0s 120ms/step - loss: 1.0526 - accuracy: 0.5104 - val_loss: 1.0784 - val_accuracy: 0.4583\n",
      "Epoch 7/25\n",
      "3/3 [==============================] - 0s 117ms/step - loss: 1.0226 - accuracy: 0.5208 - val_loss: 1.0658 - val_accuracy: 0.4167\n",
      "Epoch 8/25\n",
      "3/3 [==============================] - 0s 121ms/step - loss: 1.0120 - accuracy: 0.4896 - val_loss: 1.0376 - val_accuracy: 0.5833\n",
      "Epoch 9/25\n",
      "3/3 [==============================] - 0s 128ms/step - loss: 0.9412 - accuracy: 0.5521 - val_loss: 0.9948 - val_accuracy: 0.5417\n",
      "Epoch 10/25\n",
      "3/3 [==============================] - 0s 120ms/step - loss: 0.9177 - accuracy: 0.5625 - val_loss: 0.9497 - val_accuracy: 0.5417\n",
      "Epoch 11/25\n",
      "3/3 [==============================] - 0s 126ms/step - loss: 0.8616 - accuracy: 0.5625 - val_loss: 0.9125 - val_accuracy: 0.5417\n",
      "Epoch 12/25\n",
      "3/3 [==============================] - 0s 118ms/step - loss: 0.8213 - accuracy: 0.6458 - val_loss: 0.8883 - val_accuracy: 0.5833\n",
      "Epoch 13/25\n",
      "3/3 [==============================] - 0s 121ms/step - loss: 0.8418 - accuracy: 0.6042 - val_loss: 0.8727 - val_accuracy: 0.5417\n",
      "Epoch 14/25\n",
      "3/3 [==============================] - 0s 121ms/step - loss: 0.7977 - accuracy: 0.6667 - val_loss: 0.8941 - val_accuracy: 0.5000\n",
      "Epoch 15/25\n",
      "3/3 [==============================] - 0s 125ms/step - loss: 0.7154 - accuracy: 0.6667 - val_loss: 0.8778 - val_accuracy: 0.5000\n",
      "Epoch 16/25\n",
      "3/3 [==============================] - 0s 119ms/step - loss: 0.7201 - accuracy: 0.6562 - val_loss: 0.8774 - val_accuracy: 0.5833\n",
      "Epoch 17/25\n",
      "3/3 [==============================] - 0s 119ms/step - loss: 0.7021 - accuracy: 0.6771 - val_loss: 0.8677 - val_accuracy: 0.5000\n",
      "Epoch 18/25\n",
      "3/3 [==============================] - 0s 117ms/step - loss: 0.6306 - accuracy: 0.7604 - val_loss: 0.8773 - val_accuracy: 0.5000\n",
      "Epoch 19/25\n",
      "3/3 [==============================] - 0s 121ms/step - loss: 0.6434 - accuracy: 0.6875 - val_loss: 0.9043 - val_accuracy: 0.5000\n",
      "Epoch 20/25\n",
      "3/3 [==============================] - 0s 111ms/step - loss: 0.5797 - accuracy: 0.7500 - val_loss: 0.9344 - val_accuracy: 0.5000\n",
      "Epoch 21/25\n",
      "3/3 [==============================] - 0s 110ms/step - loss: 0.5348 - accuracy: 0.7708 - val_loss: 0.9693 - val_accuracy: 0.5000\n",
      "Epoch 22/25\n",
      "3/3 [==============================] - 0s 110ms/step - loss: 0.5069 - accuracy: 0.7708 - val_loss: 0.9708 - val_accuracy: 0.5000\n",
      "Epoch 23/25\n",
      "3/3 [==============================] - 0s 106ms/step - loss: 0.5429 - accuracy: 0.7292 - val_loss: 0.9586 - val_accuracy: 0.5417\n",
      "Epoch 24/25\n",
      "3/3 [==============================] - 0s 110ms/step - loss: 0.4846 - accuracy: 0.7500 - val_loss: 0.9765 - val_accuracy: 0.4583\n",
      "Epoch 25/25\n",
      "3/3 [==============================] - 0s 114ms/step - loss: 0.5030 - accuracy: 0.7292 - val_loss: 1.0650 - val_accuracy: 0.5000\n"
     ]
    }
   ],
   "source": [
    "history = model.fit(x, y, batch_size = 32, epochs = 25, validation_split = 0.2)"
   ]
  },
  {
   "cell_type": "code",
   "execution_count": 44,
   "metadata": {},
   "outputs": [
    {
     "name": "stdout",
     "output_type": "stream",
     "text": [
      "Model: \"sequential_3\"\n",
      "_________________________________________________________________\n",
      "Layer (type)                 Output Shape              Param #   \n",
      "=================================================================\n",
      "conv2d_12 (Conv2D)           (None, 99, 99, 32)        416       \n",
      "_________________________________________________________________\n",
      "activation (Activation)      (None, 99, 99, 32)        0         \n",
      "_________________________________________________________________\n",
      "max_pooling2d_12 (MaxPooling (None, 49, 49, 32)        0         \n",
      "_________________________________________________________________\n",
      "conv2d_13 (Conv2D)           (None, 48, 48, 64)        8256      \n",
      "_________________________________________________________________\n",
      "activation_1 (Activation)    (None, 48, 48, 64)        0         \n",
      "_________________________________________________________________\n",
      "max_pooling2d_13 (MaxPooling (None, 24, 24, 64)        0         \n",
      "_________________________________________________________________\n",
      "conv2d_14 (Conv2D)           (None, 23, 23, 64)        16448     \n",
      "_________________________________________________________________\n",
      "activation_2 (Activation)    (None, 23, 23, 64)        0         \n",
      "_________________________________________________________________\n",
      "max_pooling2d_14 (MaxPooling (None, 11, 11, 64)        0         \n",
      "_________________________________________________________________\n",
      "conv2d_15 (Conv2D)           (None, 10, 10, 64)        16448     \n",
      "_________________________________________________________________\n",
      "activation_3 (Activation)    (None, 10, 10, 64)        0         \n",
      "_________________________________________________________________\n",
      "max_pooling2d_15 (MaxPooling (None, 5, 5, 64)          0         \n",
      "_________________________________________________________________\n",
      "conv2d_16 (Conv2D)           (None, 4, 4, 64)          16448     \n",
      "_________________________________________________________________\n",
      "activation_4 (Activation)    (None, 4, 4, 64)          0         \n",
      "_________________________________________________________________\n",
      "max_pooling2d_16 (MaxPooling (None, 2, 2, 64)          0         \n",
      "_________________________________________________________________\n",
      "dropout_15 (Dropout)         (None, 2, 2, 64)          0         \n",
      "_________________________________________________________________\n",
      "flatten_3 (Flatten)          (None, 256)               0         \n",
      "_________________________________________________________________\n",
      "dense_6 (Dense)              (None, 128)               32896     \n",
      "_________________________________________________________________\n",
      "activation_5 (Activation)    (None, 128)               0         \n",
      "_________________________________________________________________\n",
      "dropout_16 (Dropout)         (None, 128)               0         \n",
      "_________________________________________________________________\n",
      "dense_7 (Dense)              (None, 3)                 387       \n",
      "_________________________________________________________________\n",
      "activation_6 (Activation)    (None, 3)                 0         \n",
      "=================================================================\n",
      "Total params: 91,299\n",
      "Trainable params: 91,299\n",
      "Non-trainable params: 0\n",
      "_________________________________________________________________\n"
     ]
    }
   ],
   "source": [
    "model.summary()"
   ]
  },
  {
   "cell_type": "code",
   "execution_count": 45,
   "metadata": {},
   "outputs": [
    {
     "data": {
      "image/png": "[encoded data removed]",
      "text/plain": [
       "<Figure size 432x288 with 1 Axes>"
      ]
     },
     "metadata": {
      "needs_background": "light"
     },
     "output_type": "display_data"
    }
   ],
   "source": [
    "plt.plot(history.history['accuracy'])\n",
    "plt.plot(history.history['val_accuracy'])\n",
    "plt.title('model accuracy')\n",
    "plt.ylabel('accuracy')\n",
    "plt.xlabel('epoch')\n",
    "plt.legend(['train', 'test'], loc='upper left')\n",
    "plt.show()"
   ]
  },
  {
   "cell_type": "code",
   "execution_count": 46,
   "metadata": {},
   "outputs": [
    {
     "data": {
      "image/png": "[encoded data removed]",
      "text/plain": [
       "<Figure size 432x288 with 1 Axes>"
      ]
     },
     "metadata": {
      "needs_background": "light"
     },
     "output_type": "display_data"
    }
   ],
   "source": [
    "plt.plot(history.history['loss'])\n",
    "plt.plot(history.history['val_loss'])\n",
    "plt.title('model loss')\n",
    "plt.ylabel('loss')\n",
    "plt.xlabel('epoch')\n",
    "plt.legend(['train', 'test'], loc='upper left')\n",
    "plt.show()"
   ]
  },
  {
   "cell_type": "markdown",
   "metadata": {},
   "source": [
    "## Saving the model "
   ]
  },
  {
   "cell_type": "code",
   "execution_count": 47,
   "metadata": {},
   "outputs": [],
   "source": [
    "model.save(\"model.h5\")"
   ]
  }
 ],
 "metadata": {
  "kernelspec": {
   "display_name": "Python 3",
   "language": "python",
   "name": "python3"
  },
  "language_info": {
   "codemirror_mode": {
    "name": "ipython",
    "version": 3
   },
   "file_extension": ".py",
   "mimetype": "text/x-python",
   "name": "python",
   "nbconvert_exporter": "python",
   "pygments_lexer": "ipython3",
   "version": "3.8.5"
  }
 },
 "nbformat": 4,
 "nbformat_minor": 4
}
